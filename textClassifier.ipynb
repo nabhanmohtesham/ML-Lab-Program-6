{
 "cells": [
  {
   "cell_type": "code",
   "execution_count": 42,
   "metadata": {},
   "outputs": [
    {
     "name": "stdout",
     "output_type": "stream",
     "text": [
      "Total instances in the data set: 18\n"
     ]
    }
   ],
   "source": [
    "import pandas as pd\n",
    "msg=pd.read_csv('C:/Users/hp/Desktop/4MT17CS005_Abigail/lab6.csv',names=['message','label'])\n",
    "print('Total instances in the data set:',msg.shape[0])"
   ]
  },
  {
   "cell_type": "code",
   "execution_count": 43,
   "metadata": {},
   "outputs": [
    {
     "name": "stdout",
     "output_type": "stream",
     "text": [
      "\n",
      "The message and its label of first 5 instances are listed below\n",
      "I love this sandwich , pos\n",
      "This is an amazing place , pos\n",
      "I feel very good about these beers , pos\n",
      "This is my best work , pos\n",
      "What an awesome view , pos\n"
     ]
    }
   ],
   "source": [
    "msg['labelnum']=msg.label.map({'pos':1,'neg':0})\n",
    "X=msg.message\n",
    "Y=msg.labelnum\n",
    "print('\\nThe message and its label of first 5 instances are listed below')\n",
    "X5,Y5=X[0:5],msg.label[0:5]\n",
    "for x,y in zip(X5,Y5):\n",
    "    print(x,',',y)"
   ]
  },
  {
   "cell_type": "code",
   "execution_count": 44,
   "metadata": {},
   "outputs": [
    {
     "name": "stdout",
     "output_type": "stream",
     "text": [
      "Dataset is split into Training and Testing samples\n",
      "Total training instances: 13\n",
      "Total testing instances: 5\n"
     ]
    }
   ],
   "source": [
    "from sklearn.model_selection import train_test_split\n",
    "xtrain,xtest,ytrain,ytest=train_test_split(X,Y)\n",
    "print('Dataset is split into Training and Testing samples')\n",
    "print('Total training instances:',xtrain.shape[0])\n",
    "print('Total testing instances:',xtest.shape[0])"
   ]
  },
  {
   "cell_type": "code",
   "execution_count": 45,
   "metadata": {},
   "outputs": [
    {
     "name": "stdout",
     "output_type": "stream",
     "text": [
      "\n",
      " Total features extracted using CountVectorizer: 46\n",
      "\n",
      " Features for first 5 training instance are listed below\n",
      "   about  am  an  and  awesome  bad  beers  boss  can  dance  ...  this  \\\n",
      "0      0   0   1    0        1    0      0     0    0      0  ...     0   \n",
      "1      0   1   0    1        0    0      0     0    0      0  ...     1   \n",
      "2      0   0   0    0        0    0      0     0    0      1  ...     0   \n",
      "3      0   1   0    0        0    0      0     0    0      0  ...     1   \n",
      "4      0   0   0    0        0    0      0     1    0      0  ...     0   \n",
      "\n",
      "   tired  to  tomorrow  very  view  we  what  will  with  \n",
      "0      0   0         0     0     1   0     1     0     0  \n",
      "1      1   0         0     0     0   0     0     0     0  \n",
      "2      0   1         0     0     0   0     0     0     0  \n",
      "3      1   0         0     0     0   0     0     0     0  \n",
      "4      0   0         0     0     0   0     0     0     0  \n",
      "\n",
      "[5 rows x 46 columns]\n"
     ]
    }
   ],
   "source": [
    "from sklearn.feature_extraction.text import CountVectorizer\n",
    "count_vect=CountVectorizer()\n",
    "xtrain_dtm=count_vect.fit_transform(xtrain)\n",
    "xtest_dtm=count_vect.transform(xtest)\n",
    "print('\\n Total features extracted using CountVectorizer:',xtrain_dtm.shape[1])\n",
    "print('\\n Features for first 5 training instance are listed below')\n",
    "df=pd.DataFrame(xtrain_dtm.toarray(),columns=count_vect.get_feature_names())\n",
    "print(df[0:5])"
   ]
  },
  {
   "cell_type": "code",
   "execution_count": 46,
   "metadata": {},
   "outputs": [
    {
     "name": "stdout",
     "output_type": "stream",
     "text": [
      "\n",
      "Classification results of testing samples are given below\n",
      "This is an amazing place->pos\n",
      "I do not like this restaurant->neg\n",
      "This is my best work->neg\n",
      "He is my sworn enemy->neg\n",
      "I went to my enemy's house today->neg\n"
     ]
    }
   ],
   "source": [
    "from sklearn.naive_bayes import MultinomialNB\n",
    "df=MultinomialNB().fit(xtrain_dtm,ytrain)\n",
    "predicted=df.predict(xtest_dtm)\n",
    "print('\\nClassification results of testing samples are given below')\n",
    "for doc,p in zip(xtest,predicted):\n",
    "    pred='pos' if p==1 else 'neg'\n",
    "    print('%s->%s'%(doc,pred))"
   ]
  },
  {
   "cell_type": "code",
   "execution_count": 47,
   "metadata": {},
   "outputs": [
    {
     "name": "stdout",
     "output_type": "stream",
     "text": [
      "\n",
      "Accuracy metrics\n",
      "\n",
      "Accuracy of the classifier is 0.8\n",
      "Recall: 0.5\n",
      "Precision: 1.0\n",
      "Confusion matrix\n",
      "[[3 0]\n",
      " [1 1]]\n"
     ]
    }
   ],
   "source": [
    "from sklearn import metrics\n",
    "print('\\nAccuracy metrics')\n",
    "print('\\nAccuracy of the classifier is',metrics.accuracy_score(ytest,predicted))\n",
    "print('Recall:',metrics.recall_score(ytest,predicted))\n",
    "print('Precision:',metrics.precision_score(ytest,predicted))\n",
    "print('Confusion matrix')\n",
    "print(metrics.confusion_matrix(ytest,predicted))"
   ]
  },
  {
   "cell_type": "code",
   "execution_count": null,
   "metadata": {},
   "outputs": [],
   "source": []
  }
 ],
 "metadata": {
  "kernelspec": {
   "display_name": "Python 3",
   "language": "python",
   "name": "python3"
  },
  "language_info": {
   "codemirror_mode": {
    "name": "ipython",
    "version": 3
   },
   "file_extension": ".py",
   "mimetype": "text/x-python",
   "name": "python",
   "nbconvert_exporter": "python",
   "pygments_lexer": "ipython3",
   "version": "3.7.3"
  }
 },
 "nbformat": 4,
 "nbformat_minor": 2
}
